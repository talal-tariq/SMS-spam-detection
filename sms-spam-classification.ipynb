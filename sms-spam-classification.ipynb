{
 "cells": [
  {
   "cell_type": "code",
   "execution_count": 1,
   "id": "418de875",
   "metadata": {
    "_cell_guid": "b1076dfc-b9ad-4769-8c92-a6c4dae69d19",
    "_uuid": "8f2839f25d086af736a60e9eeb907d3b93b6e0e5",
    "execution": {
     "iopub.execute_input": "2023-10-22T11:12:56.731286Z",
     "iopub.status.busy": "2023-10-22T11:12:56.730606Z",
     "iopub.status.idle": "2023-10-22T11:12:57.168596Z",
     "shell.execute_reply": "2023-10-22T11:12:57.167221Z"
    },
    "papermill": {
     "duration": 0.449356,
     "end_time": "2023-10-22T11:12:57.171797",
     "exception": false,
     "start_time": "2023-10-22T11:12:56.722441",
     "status": "completed"
    },
    "tags": []
   },
   "outputs": [
    {
     "name": "stdout",
     "output_type": "stream",
     "text": [
      "/kaggle/input/sms-spam-collection-dataset/spam.csv\n"
     ]
    }
   ],
   "source": [
    "# This Python 3 environment comes with many helpful analytics libraries installed\n",
    "# It is defined by the kaggle/python Docker image: https://github.com/kaggle/docker-python\n",
    "# For example, here's several helpful packages to load\n",
    "\n",
    "import numpy as np # linear algebra\n",
    "import pandas as pd # data processing, CSV file I/O (e.g. pd.read_csv)\n",
    "\n",
    "# Input data files are available in the read-only \"../input/\" directory\n",
    "# For example, running this (by clicking run or pressing Shift+Enter) will list all files under the input directory\n",
    "\n",
    "import os\n",
    "for dirname, _, filenames in os.walk('/kaggle/input'):\n",
    "    for filename in filenames:\n",
    "        print(os.path.join(dirname, filename))\n",
    "\n",
    "# You can write up to 20GB to the current directory (/kaggle/working/) that gets preserved as output when you create a version using \"Save & Run All\" \n",
    "# You can also write temporary files to /kaggle/temp/, but they won't be saved outside of the current session"
   ]
  },
  {
   "cell_type": "code",
   "execution_count": 2,
   "id": "77054e28",
   "metadata": {
    "execution": {
     "iopub.execute_input": "2023-10-22T11:12:57.186554Z",
     "iopub.status.busy": "2023-10-22T11:12:57.186059Z",
     "iopub.status.idle": "2023-10-22T11:12:59.426464Z",
     "shell.execute_reply": "2023-10-22T11:12:59.424834Z"
    },
    "papermill": {
     "duration": 2.250222,
     "end_time": "2023-10-22T11:12:59.429634",
     "exception": false,
     "start_time": "2023-10-22T11:12:57.179412",
     "status": "completed"
    },
    "tags": []
   },
   "outputs": [],
   "source": [
    "#necessary libraries \n",
    "import numpy as np # linear algebra\n",
    "import pandas as pd # data processing\n",
    "import nltk\n",
    "from nltk.corpus import stopwords\n",
    "from nltk.tokenize import word_tokenize\n",
    "from nltk.stem import PorterStemmer"
   ]
  },
  {
   "cell_type": "code",
   "execution_count": 3,
   "id": "d183255b",
   "metadata": {
    "execution": {
     "iopub.execute_input": "2023-10-22T11:12:59.442190Z",
     "iopub.status.busy": "2023-10-22T11:12:59.441640Z",
     "iopub.status.idle": "2023-10-22T11:12:59.490031Z",
     "shell.execute_reply": "2023-10-22T11:12:59.488713Z"
    },
    "papermill": {
     "duration": 0.058001,
     "end_time": "2023-10-22T11:12:59.492857",
     "exception": false,
     "start_time": "2023-10-22T11:12:59.434856",
     "status": "completed"
    },
    "tags": []
   },
   "outputs": [],
   "source": [
    "# Load the dataset  \n",
    "data = pd.read_csv('/kaggle/input/sms-spam-collection-dataset/spam.csv', encoding='latin-1')\n"
   ]
  },
  {
   "cell_type": "code",
   "execution_count": 4,
   "id": "b07360aa",
   "metadata": {
    "execution": {
     "iopub.execute_input": "2023-10-22T11:12:59.505527Z",
     "iopub.status.busy": "2023-10-22T11:12:59.505016Z",
     "iopub.status.idle": "2023-10-22T11:12:59.531737Z",
     "shell.execute_reply": "2023-10-22T11:12:59.530334Z"
    },
    "papermill": {
     "duration": 0.03698,
     "end_time": "2023-10-22T11:12:59.535036",
     "exception": false,
     "start_time": "2023-10-22T11:12:59.498056",
     "status": "completed"
    },
    "tags": []
   },
   "outputs": [
    {
     "data": {
      "text/html": [
       "<div>\n",
       "<style scoped>\n",
       "    .dataframe tbody tr th:only-of-type {\n",
       "        vertical-align: middle;\n",
       "    }\n",
       "\n",
       "    .dataframe tbody tr th {\n",
       "        vertical-align: top;\n",
       "    }\n",
       "\n",
       "    .dataframe thead th {\n",
       "        text-align: right;\n",
       "    }\n",
       "</style>\n",
       "<table border=\"1\" class=\"dataframe\">\n",
       "  <thead>\n",
       "    <tr style=\"text-align: right;\">\n",
       "      <th></th>\n",
       "      <th>v1</th>\n",
       "      <th>v2</th>\n",
       "      <th>Unnamed: 2</th>\n",
       "      <th>Unnamed: 3</th>\n",
       "      <th>Unnamed: 4</th>\n",
       "    </tr>\n",
       "  </thead>\n",
       "  <tbody>\n",
       "    <tr>\n",
       "      <th>0</th>\n",
       "      <td>ham</td>\n",
       "      <td>Go until jurong point, crazy.. Available only ...</td>\n",
       "      <td>NaN</td>\n",
       "      <td>NaN</td>\n",
       "      <td>NaN</td>\n",
       "    </tr>\n",
       "    <tr>\n",
       "      <th>1</th>\n",
       "      <td>ham</td>\n",
       "      <td>Ok lar... Joking wif u oni...</td>\n",
       "      <td>NaN</td>\n",
       "      <td>NaN</td>\n",
       "      <td>NaN</td>\n",
       "    </tr>\n",
       "    <tr>\n",
       "      <th>2</th>\n",
       "      <td>spam</td>\n",
       "      <td>Free entry in 2 a wkly comp to win FA Cup fina...</td>\n",
       "      <td>NaN</td>\n",
       "      <td>NaN</td>\n",
       "      <td>NaN</td>\n",
       "    </tr>\n",
       "    <tr>\n",
       "      <th>3</th>\n",
       "      <td>ham</td>\n",
       "      <td>U dun say so early hor... U c already then say...</td>\n",
       "      <td>NaN</td>\n",
       "      <td>NaN</td>\n",
       "      <td>NaN</td>\n",
       "    </tr>\n",
       "    <tr>\n",
       "      <th>4</th>\n",
       "      <td>ham</td>\n",
       "      <td>Nah I don't think he goes to usf, he lives aro...</td>\n",
       "      <td>NaN</td>\n",
       "      <td>NaN</td>\n",
       "      <td>NaN</td>\n",
       "    </tr>\n",
       "  </tbody>\n",
       "</table>\n",
       "</div>"
      ],
      "text/plain": [
       "     v1                                                 v2 Unnamed: 2  \\\n",
       "0   ham  Go until jurong point, crazy.. Available only ...        NaN   \n",
       "1   ham                      Ok lar... Joking wif u oni...        NaN   \n",
       "2  spam  Free entry in 2 a wkly comp to win FA Cup fina...        NaN   \n",
       "3   ham  U dun say so early hor... U c already then say...        NaN   \n",
       "4   ham  Nah I don't think he goes to usf, he lives aro...        NaN   \n",
       "\n",
       "  Unnamed: 3 Unnamed: 4  \n",
       "0        NaN        NaN  \n",
       "1        NaN        NaN  \n",
       "2        NaN        NaN  \n",
       "3        NaN        NaN  \n",
       "4        NaN        NaN  "
      ]
     },
     "execution_count": 4,
     "metadata": {},
     "output_type": "execute_result"
    }
   ],
   "source": [
    "data.head()"
   ]
  },
  {
   "cell_type": "code",
   "execution_count": 5,
   "id": "2fb9c06b",
   "metadata": {
    "execution": {
     "iopub.execute_input": "2023-10-22T11:12:59.548468Z",
     "iopub.status.busy": "2023-10-22T11:12:59.547943Z",
     "iopub.status.idle": "2023-10-22T11:12:59.572113Z",
     "shell.execute_reply": "2023-10-22T11:12:59.570823Z"
    },
    "papermill": {
     "duration": 0.034367,
     "end_time": "2023-10-22T11:12:59.574934",
     "exception": false,
     "start_time": "2023-10-22T11:12:59.540567",
     "status": "completed"
    },
    "tags": []
   },
   "outputs": [
    {
     "data": {
      "text/html": [
       "<div>\n",
       "<style scoped>\n",
       "    .dataframe tbody tr th:only-of-type {\n",
       "        vertical-align: middle;\n",
       "    }\n",
       "\n",
       "    .dataframe tbody tr th {\n",
       "        vertical-align: top;\n",
       "    }\n",
       "\n",
       "    .dataframe thead th {\n",
       "        text-align: right;\n",
       "    }\n",
       "</style>\n",
       "<table border=\"1\" class=\"dataframe\">\n",
       "  <thead>\n",
       "    <tr style=\"text-align: right;\">\n",
       "      <th></th>\n",
       "      <th>v1</th>\n",
       "      <th>v2</th>\n",
       "    </tr>\n",
       "  </thead>\n",
       "  <tbody>\n",
       "    <tr>\n",
       "      <th>0</th>\n",
       "      <td>ham</td>\n",
       "      <td>Go until jurong point, crazy.. Available only ...</td>\n",
       "    </tr>\n",
       "    <tr>\n",
       "      <th>1</th>\n",
       "      <td>ham</td>\n",
       "      <td>Ok lar... Joking wif u oni...</td>\n",
       "    </tr>\n",
       "    <tr>\n",
       "      <th>2</th>\n",
       "      <td>spam</td>\n",
       "      <td>Free entry in 2 a wkly comp to win FA Cup fina...</td>\n",
       "    </tr>\n",
       "    <tr>\n",
       "      <th>3</th>\n",
       "      <td>ham</td>\n",
       "      <td>U dun say so early hor... U c already then say...</td>\n",
       "    </tr>\n",
       "    <tr>\n",
       "      <th>4</th>\n",
       "      <td>ham</td>\n",
       "      <td>Nah I don't think he goes to usf, he lives aro...</td>\n",
       "    </tr>\n",
       "  </tbody>\n",
       "</table>\n",
       "</div>"
      ],
      "text/plain": [
       "     v1                                                 v2\n",
       "0   ham  Go until jurong point, crazy.. Available only ...\n",
       "1   ham                      Ok lar... Joking wif u oni...\n",
       "2  spam  Free entry in 2 a wkly comp to win FA Cup fina...\n",
       "3   ham  U dun say so early hor... U c already then say...\n",
       "4   ham  Nah I don't think he goes to usf, he lives aro..."
      ]
     },
     "execution_count": 5,
     "metadata": {},
     "output_type": "execute_result"
    }
   ],
   "source": [
    "columns_to_drop = ['Unnamed: 2', 'Unnamed: 3', 'Unnamed: 4']\n",
    "data = data.drop(columns_to_drop, axis=1, errors='ignore')\n",
    "data.head()"
   ]
  },
  {
   "cell_type": "markdown",
   "id": "1868f4a3",
   "metadata": {
    "papermill": {
     "duration": 0.005449,
     "end_time": "2023-10-22T11:12:59.586411",
     "exception": false,
     "start_time": "2023-10-22T11:12:59.580962",
     "status": "completed"
    },
    "tags": []
   },
   "source": [
    "# Tokenization and cleaning "
   ]
  },
  {
   "cell_type": "code",
   "execution_count": 6,
   "id": "89d623ea",
   "metadata": {
    "execution": {
     "iopub.execute_input": "2023-10-22T11:12:59.601254Z",
     "iopub.status.busy": "2023-10-22T11:12:59.600276Z",
     "iopub.status.idle": "2023-10-22T11:13:04.735018Z",
     "shell.execute_reply": "2023-10-22T11:13:04.733914Z"
    },
    "papermill": {
     "duration": 5.144869,
     "end_time": "2023-10-22T11:13:04.737348",
     "exception": false,
     "start_time": "2023-10-22T11:12:59.592479",
     "status": "completed"
    },
    "tags": []
   },
   "outputs": [
    {
     "data": {
      "text/html": [
       "<div>\n",
       "<style scoped>\n",
       "    .dataframe tbody tr th:only-of-type {\n",
       "        vertical-align: middle;\n",
       "    }\n",
       "\n",
       "    .dataframe tbody tr th {\n",
       "        vertical-align: top;\n",
       "    }\n",
       "\n",
       "    .dataframe thead th {\n",
       "        text-align: right;\n",
       "    }\n",
       "</style>\n",
       "<table border=\"1\" class=\"dataframe\">\n",
       "  <thead>\n",
       "    <tr style=\"text-align: right;\">\n",
       "      <th></th>\n",
       "      <th>v1</th>\n",
       "      <th>v2</th>\n",
       "    </tr>\n",
       "  </thead>\n",
       "  <tbody>\n",
       "    <tr>\n",
       "      <th>0</th>\n",
       "      <td>ham</td>\n",
       "      <td>go jurong point avail bugi n great world la e ...</td>\n",
       "    </tr>\n",
       "    <tr>\n",
       "      <th>1</th>\n",
       "      <td>ham</td>\n",
       "      <td>ok lar joke wif u oni</td>\n",
       "    </tr>\n",
       "    <tr>\n",
       "      <th>2</th>\n",
       "      <td>spam</td>\n",
       "      <td>free entri 2 wkli comp win fa cup final tkt 21...</td>\n",
       "    </tr>\n",
       "    <tr>\n",
       "      <th>3</th>\n",
       "      <td>ham</td>\n",
       "      <td>u dun say earli hor u c alreadi say</td>\n",
       "    </tr>\n",
       "    <tr>\n",
       "      <th>4</th>\n",
       "      <td>ham</td>\n",
       "      <td>nah think goe usf live around though</td>\n",
       "    </tr>\n",
       "  </tbody>\n",
       "</table>\n",
       "</div>"
      ],
      "text/plain": [
       "     v1                                                 v2\n",
       "0   ham  go jurong point avail bugi n great world la e ...\n",
       "1   ham                              ok lar joke wif u oni\n",
       "2  spam  free entri 2 wkli comp win fa cup final tkt 21...\n",
       "3   ham                u dun say earli hor u c alreadi say\n",
       "4   ham               nah think goe usf live around though"
      ]
     },
     "execution_count": 6,
     "metadata": {},
     "output_type": "execute_result"
    }
   ],
   "source": [
    "# Clean the \"v2\" column \n",
    "data['v2'] = data['v2'].str.lower()\n",
    "\n",
    "# Tokenization and cleaning of daata\n",
    "def preprocess_text(text):\n",
    "    tokens = word_tokenize(text)\n",
    "    stop_words = set(stopwords.words('english'))\n",
    "    filtered_tokens = [word for word in tokens if word.isalnum() and word not in stop_words]\n",
    "    stemmer = PorterStemmer()\n",
    "    stemmed_tokens = [stemmer.stem(word) for word in filtered_tokens]\n",
    "    return ' '.join(stemmed_tokens)\n",
    "\n",
    "data['v2'] = data['v2'].apply(preprocess_text)\n",
    "\n",
    "data.head()"
   ]
  },
  {
   "cell_type": "code",
   "execution_count": 7,
   "id": "e90a9236",
   "metadata": {
    "execution": {
     "iopub.execute_input": "2023-10-22T11:13:04.750485Z",
     "iopub.status.busy": "2023-10-22T11:13:04.750114Z",
     "iopub.status.idle": "2023-10-22T11:13:04.956817Z",
     "shell.execute_reply": "2023-10-22T11:13:04.955623Z"
    },
    "papermill": {
     "duration": 0.216025,
     "end_time": "2023-10-22T11:13:04.959160",
     "exception": false,
     "start_time": "2023-10-22T11:13:04.743135",
     "status": "completed"
    },
    "tags": []
   },
   "outputs": [
    {
     "name": "stdout",
     "output_type": "stream",
     "text": [
      "TF-IDF Matrix Shape: (5572, 8672)\n",
      "Training Data Shape: (4457, 8672)\n",
      "Testing Data Shape: (1115, 8672)\n"
     ]
    }
   ],
   "source": [
    "from sklearn.feature_extraction.text import TfidfVectorizer\n",
    "from sklearn.model_selection import train_test_split\n",
    "\n",
    "# Load the dataset\n",
    "data = pd.read_csv('/kaggle/input/sms-spam-collection-dataset/spam.csv', encoding='latin-1')\n",
    "\n",
    "# Feature Extraction (TF-IDF)\n",
    "tfidf_vectorizer = TfidfVectorizer()\n",
    "tfidf_matrix = tfidf_vectorizer.fit_transform(data['v2'])\n",
    "\n",
    "# Label Encoding\n",
    "data['v1'] = data['v1'].map({'ham': 0, 'spam': 1})\n",
    "\n",
    "# Split Data\n",
    "X_train, X_test, y_train, y_test = train_test_split(tfidf_matrix, data['v1'], test_size=0.2, random_state=42)\n",
    "\n",
    "# Check the shape of the TF-IDF matrix and the split data\n",
    "print(\"TF-IDF Matrix Shape:\", tfidf_matrix.shape)\n",
    "print(\"Training Data Shape:\", X_train.shape)\n",
    "print(\"Testing Data Shape:\", X_test.shape)"
   ]
  },
  {
   "cell_type": "markdown",
   "id": "62d7f097",
   "metadata": {
    "papermill": {
     "duration": 0.005664,
     "end_time": "2023-10-22T11:13:04.970688",
     "exception": false,
     "start_time": "2023-10-22T11:13:04.965024",
     "status": "completed"
    },
    "tags": []
   },
   "source": [
    "# Random Forest Classifier"
   ]
  },
  {
   "cell_type": "code",
   "execution_count": 8,
   "id": "543b1179",
   "metadata": {
    "execution": {
     "iopub.execute_input": "2023-10-22T11:13:04.984565Z",
     "iopub.status.busy": "2023-10-22T11:13:04.983928Z",
     "iopub.status.idle": "2023-10-22T11:13:09.528056Z",
     "shell.execute_reply": "2023-10-22T11:13:09.526522Z"
    },
    "papermill": {
     "duration": 4.554364,
     "end_time": "2023-10-22T11:13:09.530901",
     "exception": false,
     "start_time": "2023-10-22T11:13:04.976537",
     "status": "completed"
    },
    "tags": []
   },
   "outputs": [
    {
     "name": "stdout",
     "output_type": "stream",
     "text": [
      "Accuracy: 0.9766816143497757\n",
      "classification report:\n",
      "               precision    recall  f1-score   support\n",
      "\n",
      "           0       0.97      1.00      0.99       965\n",
      "           1       1.00      0.83      0.91       150\n",
      "\n",
      "    accuracy                           0.98      1115\n",
      "   macro avg       0.99      0.91      0.95      1115\n",
      "weighted avg       0.98      0.98      0.98      1115\n",
      "\n"
     ]
    }
   ],
   "source": [
    "from sklearn.ensemble import RandomForestClassifier\n",
    "from sklearn.metrics import accuracy_score, classification_report\n",
    "\n",
    "# Create a Random Forest classifier\n",
    "rf_classifier = RandomForestClassifier(random_state=42)\n",
    "\n",
    "# Train the classifier on the training data\n",
    "rf_classifier.fit(X_train, y_train)\n",
    "\n",
    "# Make predictions on the testing data\n",
    "y_pred = rf_classifier.predict(X_test)\n",
    "\n",
    "# Evaluate the model's performance\n",
    "accuracy = accuracy_score(y_test, y_pred)\n",
    "classification_rep = classification_report(y_test, y_pred)\n",
    "\n",
    "# Print the results\n",
    "print(\"Accuracy:\", accuracy)\n",
    "print(\"classification report:\\n\", classification_rep)"
   ]
  },
  {
   "cell_type": "markdown",
   "id": "7078fff6",
   "metadata": {
    "papermill": {
     "duration": 0.005724,
     "end_time": "2023-10-22T11:13:09.542898",
     "exception": false,
     "start_time": "2023-10-22T11:13:09.537174",
     "status": "completed"
    },
    "tags": []
   },
   "source": [
    "#  **Testing model**"
   ]
  },
  {
   "cell_type": "code",
   "execution_count": 9,
   "id": "7bd08794",
   "metadata": {
    "execution": {
     "iopub.execute_input": "2023-10-22T11:13:09.557255Z",
     "iopub.status.busy": "2023-10-22T11:13:09.556803Z",
     "iopub.status.idle": "2023-10-22T11:13:09.574037Z",
     "shell.execute_reply": "2023-10-22T11:13:09.572766Z"
    },
    "papermill": {
     "duration": 0.02809,
     "end_time": "2023-10-22T11:13:09.577081",
     "exception": false,
     "start_time": "2023-10-22T11:13:09.548991",
     "status": "completed"
    },
    "tags": []
   },
   "outputs": [
    {
     "name": "stdout",
     "output_type": "stream",
     "text": [
      "This message is predicted to be NOT SPAM by trained model.\n"
     ]
    }
   ],
   "source": [
    "\n",
    "input_text = \"\"\"\\apple Inc.Your iPhone 6 linked top***zm\".edu) has been used a few minutes\n",
    "ago. To localize it,login now to your apple account .\"\"\"\n",
    "\n",
    "# Apply the same preprocessing as in your previous code\n",
    "input_text = input_text.lower()\n",
    "# Add more preprocessing steps if needed\n",
    "\n",
    "# Transform the input text into a TF-IDF vector\n",
    "input_tfidf = tfidf_vectorizer.transform([input_text])\n",
    "\n",
    "# Make a prediction using the trained Random Forest model\n",
    "prediction = rf_classifier.predict(input_tfidf)\n",
    "\n",
    "# predictions\n",
    "if prediction[0] == 1:\n",
    "    print(\"This message is predicted to be SPAM by trained model.\")\n",
    "else:\n",
    "    print(\"This message is predicted to be NOT SPAM by trained model.\")"
   ]
  },
  {
   "cell_type": "code",
   "execution_count": 10,
   "id": "f55058cf",
   "metadata": {
    "execution": {
     "iopub.execute_input": "2023-10-22T11:13:09.591839Z",
     "iopub.status.busy": "2023-10-22T11:13:09.591339Z",
     "iopub.status.idle": "2023-10-22T11:13:09.610427Z",
     "shell.execute_reply": "2023-10-22T11:13:09.608811Z"
    },
    "papermill": {
     "duration": 0.030651,
     "end_time": "2023-10-22T11:13:09.613799",
     "exception": false,
     "start_time": "2023-10-22T11:13:09.583148",
     "status": "completed"
    },
    "tags": []
   },
   "outputs": [
    {
     "name": "stdout",
     "output_type": "stream",
     "text": [
      "This message is predicted to be NOT SPAM by trained model.\n"
     ]
    }
   ],
   "source": [
    "input_text1 = \"Hey, I'm mark. How are you?.\"\n",
    "\n",
    "# Apply the same preprocessing as in your previous code\n",
    "input_text1 = input_text1.lower()\n",
    "\n",
    "# Transform the input text into a TF-IDF vector\n",
    "input_tfidf = tfidf_vectorizer.transform([input_text1])\n",
    "\n",
    "# Make a prediction using the trained Random Forest model\n",
    "prediction = rf_classifier.predict(input_tfidf)\n",
    "\n",
    "# perdictions\n",
    "if prediction[0] == 1:\n",
    "    print(\"This message is predicted to be SPAM by trained model.\")\n",
    "else:\n",
    "    print(\"This message is predicted to be NOT SPAM by trained model.\")"
   ]
  }
 ],
 "metadata": {
  "kernelspec": {
   "display_name": "Python 3",
   "language": "python",
   "name": "python3"
  },
  "language_info": {
   "codemirror_mode": {
    "name": "ipython",
    "version": 3
   },
   "file_extension": ".py",
   "mimetype": "text/x-python",
   "name": "python",
   "nbconvert_exporter": "python",
   "pygments_lexer": "ipython3",
   "version": "3.10.12"
  },
  "papermill": {
   "default_parameters": {},
   "duration": 17.533504,
   "end_time": "2023-10-22T11:13:10.342974",
   "environment_variables": {},
   "exception": null,
   "input_path": "__notebook__.ipynb",
   "output_path": "__notebook__.ipynb",
   "parameters": {},
   "start_time": "2023-10-22T11:12:52.809470",
   "version": "2.4.0"
  }
 },
 "nbformat": 4,
 "nbformat_minor": 5
}
